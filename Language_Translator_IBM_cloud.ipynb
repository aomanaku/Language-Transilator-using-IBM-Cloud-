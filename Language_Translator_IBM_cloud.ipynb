{
  "nbformat": 4,
  "nbformat_minor": 0,
  "metadata": {
    "colab": {
      "provenance": []
    },
    "kernelspec": {
      "name": "python3",
      "display_name": "Python 3"
    },
    "language_info": {
      "name": "python"
    }
  },
  "cells": [
    {
      "cell_type": "code",
      "execution_count": 1,
      "metadata": {
        "colab": {
          "base_uri": "https://localhost:8080/"
        },
        "id": "aITPolGFKSXy",
        "outputId": "9293067a-fa84-4330-9417-1eac4cf4676f"
      },
      "outputs": [
        {
          "output_type": "stream",
          "name": "stdout",
          "text": [
            "Looking in indexes: https://pypi.org/simple, https://us-python.pkg.dev/colab-wheels/public/simple/\n",
            "Collecting ibm_watson\n",
            "  Downloading ibm-watson-6.1.0.tar.gz (373 kB)\n",
            "\u001b[2K     \u001b[90m━━━━━━━━━━━━━━━━━━━━━━━━━━━━━━━━━━━━━━━\u001b[0m \u001b[32m373.5/373.5 KB\u001b[0m \u001b[31m7.0 MB/s\u001b[0m eta \u001b[36m0:00:00\u001b[0m\n",
            "\u001b[?25h  Installing build dependencies ... \u001b[?25l\u001b[?25hdone\n",
            "  Getting requirements to build wheel ... \u001b[?25l\u001b[?25hdone\n",
            "  Preparing metadata (pyproject.toml) ... \u001b[?25l\u001b[?25hdone\n",
            "Requirement already satisfied: python-dateutil>=2.5.3 in /usr/local/lib/python3.8/dist-packages (from ibm_watson) (2.8.2)\n",
            "Collecting ibm-cloud-sdk-core==3.*,>=3.3.6\n",
            "  Downloading ibm-cloud-sdk-core-3.16.1.tar.gz (50 kB)\n",
            "\u001b[2K     \u001b[90m━━━━━━━━━━━━━━━━━━━━━━━━━━━━━━━━━━━━━━━━\u001b[0m \u001b[32m50.5/50.5 KB\u001b[0m \u001b[31m6.2 MB/s\u001b[0m eta \u001b[36m0:00:00\u001b[0m\n",
            "\u001b[?25h  Installing build dependencies ... \u001b[?25l\u001b[?25hdone\n",
            "  Getting requirements to build wheel ... \u001b[?25l\u001b[?25hdone\n",
            "  Preparing metadata (pyproject.toml) ... \u001b[?25l\u001b[?25hdone\n",
            "Collecting websocket-client==1.1.0\n",
            "  Downloading websocket_client-1.1.0-py2.py3-none-any.whl (68 kB)\n",
            "\u001b[2K     \u001b[90m━━━━━━━━━━━━━━━━━━━━━━━━━━━━━━━━━━━━━━━━\u001b[0m \u001b[32m68.7/68.7 KB\u001b[0m \u001b[31m5.5 MB/s\u001b[0m eta \u001b[36m0:00:00\u001b[0m\n",
            "\u001b[?25hRequirement already satisfied: requests<3.0,>=2.0 in /usr/local/lib/python3.8/dist-packages (from ibm_watson) (2.25.1)\n",
            "Collecting urllib3<2.0.0,>=1.26.0\n",
            "  Downloading urllib3-1.26.14-py2.py3-none-any.whl (140 kB)\n",
            "\u001b[2K     \u001b[90m━━━━━━━━━━━━━━━━━━━━━━━━━━━━━━━━━━━━━━\u001b[0m \u001b[32m140.6/140.6 KB\u001b[0m \u001b[31m13.1 MB/s\u001b[0m eta \u001b[36m0:00:00\u001b[0m\n",
            "\u001b[?25hCollecting requests<3.0,>=2.0\n",
            "  Downloading requests-2.28.1-py3-none-any.whl (62 kB)\n",
            "\u001b[2K     \u001b[90m━━━━━━━━━━━━━━━━━━━━━━━━━━━━━━━━━━━━━━━━\u001b[0m \u001b[32m62.8/62.8 KB\u001b[0m \u001b[31m7.1 MB/s\u001b[0m eta \u001b[36m0:00:00\u001b[0m\n",
            "\u001b[?25hCollecting PyJWT<3.0.0,>=2.4.0\n",
            "  Downloading PyJWT-2.6.0-py3-none-any.whl (20 kB)\n",
            "Requirement already satisfied: six>=1.5 in /usr/local/lib/python3.8/dist-packages (from python-dateutil>=2.5.3->ibm_watson) (1.15.0)\n",
            "Requirement already satisfied: certifi>=2017.4.17 in /usr/local/lib/python3.8/dist-packages (from requests<3.0,>=2.0->ibm_watson) (2022.12.7)\n",
            "Requirement already satisfied: idna<4,>=2.5 in /usr/local/lib/python3.8/dist-packages (from requests<3.0,>=2.0->ibm_watson) (2.10)\n",
            "Requirement already satisfied: charset-normalizer<3,>=2 in /usr/local/lib/python3.8/dist-packages (from requests<3.0,>=2.0->ibm_watson) (2.1.1)\n",
            "Building wheels for collected packages: ibm_watson, ibm-cloud-sdk-core\n",
            "  Building wheel for ibm_watson (pyproject.toml) ... \u001b[?25l\u001b[?25hdone\n",
            "  Created wheel for ibm_watson: filename=ibm_watson-6.1.0-py3-none-any.whl size=370764 sha256=ae05062235b3814f8c000ee756dafb7da86e9565521e8b236ff15f980ec801f5\n",
            "  Stored in directory: /root/.cache/pip/wheels/34/b4/cd/829a351c802b7a578115fe7ddaedff62b29eae84e90882c7e2\n",
            "  Building wheel for ibm-cloud-sdk-core (pyproject.toml) ... \u001b[?25l\u001b[?25hdone\n",
            "  Created wheel for ibm-cloud-sdk-core: filename=ibm_cloud_sdk_core-3.16.1-py3-none-any.whl size=83569 sha256=6b2080c1c2514004a64faebe1aa76eaa5f75f144431bc7c43a33e6aa234570b1\n",
            "  Stored in directory: /root/.cache/pip/wheels/8a/51/69/22f5cea59892dc3eae30e5df3b1380902f010a5eb6596d7cb1\n",
            "Successfully built ibm_watson ibm-cloud-sdk-core\n",
            "Installing collected packages: websocket-client, urllib3, PyJWT, requests, ibm-cloud-sdk-core, ibm_watson\n",
            "  Attempting uninstall: urllib3\n",
            "    Found existing installation: urllib3 1.24.3\n",
            "    Uninstalling urllib3-1.24.3:\n",
            "      Successfully uninstalled urllib3-1.24.3\n",
            "  Attempting uninstall: requests\n",
            "    Found existing installation: requests 2.25.1\n",
            "    Uninstalling requests-2.25.1:\n",
            "      Successfully uninstalled requests-2.25.1\n",
            "Successfully installed PyJWT-2.6.0 ibm-cloud-sdk-core-3.16.1 ibm_watson-6.1.0 requests-2.28.1 urllib3-1.26.14 websocket-client-1.1.0\n"
          ]
        }
      ],
      "source": [
        "!pip install ibm_watson"
      ]
    },
    {
      "cell_type": "code",
      "source": [
        "API_key = '4WwfivZpaG__yYw4zKoLWeX0IHFiptSvMlLK2dxh7dsT'\n",
        "url = 'https://api.us-south.language-translator.watson.cloud.ibm.com/instances/70e71ee8-5d64-4125-a74e-4b47b3a25968'\n"
      ],
      "metadata": {
        "id": "p-k3nO97KTGN"
      },
      "execution_count": 2,
      "outputs": []
    },
    {
      "cell_type": "code",
      "source": [
        "## importing dependancies\n",
        "\n",
        "## this is the language translator\n",
        "\n",
        "from ibm_watson import LanguageTranslatorV3\n",
        "\n",
        "# this is the authentication service\n",
        "\n",
        "from ibm_cloud_sdk_core.authenticators import IAMAuthenticator"
      ],
      "metadata": {
        "id": "ntkr0DXbKh5a"
      },
      "execution_count": 3,
      "outputs": []
    },
    {
      "cell_type": "code",
      "source": [
        "# autheniticating the API key\n",
        "\n",
        "authenticator = IAMAuthenticator(apikey=API_key)\n",
        "\n",
        "# setting our language translator object\n",
        "\n",
        "langtranslator = LanguageTranslatorV3(version='2018-05-01',\n",
        "                                     authenticator=authenticator)\n",
        "\n",
        "# establishing the connection with the service\n",
        "\n",
        "langtranslator.set_service_url(url)"
      ],
      "metadata": {
        "id": "n1hwQiFGKsyn"
      },
      "execution_count": 4,
      "outputs": []
    },
    {
      "cell_type": "code",
      "source": [
        "translation = langtranslator.translate(text='Hello World',model_id='en-fr')"
      ],
      "metadata": {
        "id": "zLKhDLzmKur5"
      },
      "execution_count": 11,
      "outputs": []
    },
    {
      "cell_type": "code",
      "source": [
        "translation.get_result()"
      ],
      "metadata": {
        "colab": {
          "base_uri": "https://localhost:8080/"
        },
        "id": "6dhM8Rh6KxeD",
        "outputId": "3d4089d1-31c3-4594-b785-d271f635f67c"
      },
      "execution_count": 12,
      "outputs": [
        {
          "output_type": "execute_result",
          "data": {
            "text/plain": [
              "{'translations': [{'translation': 'Hello World'}],\n",
              " 'word_count': 2,\n",
              " 'character_count': 11}"
            ]
          },
          "metadata": {},
          "execution_count": 12
        }
      ]
    },
    {
      "cell_type": "code",
      "source": [
        "## trying for bigger text\n",
        "\n",
        "text = 'According to consensus in modern genetics anatomically modern humans first arrived on the Indian subcontinent from Africa between 73,000 and 55,000 years ago.[1] However, the earliest known human remains in South Asia date to 30,000 years ago. Settled life, which involves the transition from foraging to farming and pastoralism, began in South Asia around 7,000 BCE. At the site of Mehrgarh presence can be documented of the domestication of wheat and barley, rapidly followed by that of goats, sheep, and cattle.[2] By 4,500 BCE, settled life had spread more widely,[2] and began to gradually evolve into the Indus Valley Civilization, an early civilization of the Old world, which was contemporaneous with Ancient Egypt and Mesopotamia. This civilisation flourished between 2,500 BCE and 1900 BCE in what today is Pakistan and north-western India, and was noted for its urban planning, baked brick houses, elaborate drainage, and water supply.[3]'\n",
        "\n",
        "translation = langtranslator.translate(text=text,model_id='en-fr')\n",
        "\n",
        "translation.get_result()"
      ],
      "metadata": {
        "colab": {
          "base_uri": "https://localhost:8080/"
        },
        "id": "gwQMyTm4KztW",
        "outputId": "fdd986d8-326b-477d-b9be-c2d68c350fb7"
      },
      "execution_count": 14,
      "outputs": [
        {
          "output_type": "execute_result",
          "data": {
            "text/plain": [
              "{'translations': [{'translation': \"Selon un consensus sur la génétique moderne, les humains modernes sont d'abord arrivés sur le sous-continent indien en provenance d'Afrique il y a entre 73 000 et 55 000 ans. [ 1 ] Cependant, les restes humains les plus anciens en Asie du Sud remontent à il y a 30 000 ans. La vie colonisée, qui implique la transition de la recherche de nourriture à l'agriculture et au pastoralisme, a commencé en Asie du Sud vers 7000 avant notre ère. Sur le site de la présence de Mehrgarh, on peut documenter la domestication du blé et de l'orge, rapidement suivie par celle des chèvres, des moutons et des bovins. [ 2 ] Par 4 500 av. J.-C., la vie sédentable s'est répandue plus largement, [ 2 ] et a commencé à évoluer progressivement vers la civilisation de la vallée de l'Indus, une civilisation ancienne de l'Ancien Monde, qui était contemporaine de l'Égypte ancienne et de la Mésopotamie. Cette civilisation a prospéré entre 2 500 av. J.-C. et 1900 avant notre ère dans ce qui est aujourd'hui le Pakistan et le nord-ouest de l'Inde, et elle a été notée pour sa planification urbaine, les maisons de briques cuites, le drainage complexe et l'approvisionnement en eau [ 3 ].\"}],\n",
              " 'word_count': 179,\n",
              " 'character_count': 949}"
            ]
          },
          "metadata": {},
          "execution_count": 14
        }
      ]
    },
    {
      "cell_type": "code",
      "source": [
        "translation.get_result()['translations'][0]['translation']"
      ],
      "metadata": {
        "colab": {
          "base_uri": "https://localhost:8080/",
          "height": 123
        },
        "id": "xLHaHCMZK22A",
        "outputId": "46dfb5f5-88c9-41b3-f904-cf2ecd0531ce"
      },
      "execution_count": 15,
      "outputs": [
        {
          "output_type": "execute_result",
          "data": {
            "text/plain": [
              "\"Selon un consensus sur la génétique moderne, les humains modernes sont d'abord arrivés sur le sous-continent indien en provenance d'Afrique il y a entre 73 000 et 55 000 ans. [ 1 ] Cependant, les restes humains les plus anciens en Asie du Sud remontent à il y a 30 000 ans. La vie colonisée, qui implique la transition de la recherche de nourriture à l'agriculture et au pastoralisme, a commencé en Asie du Sud vers 7000 avant notre ère. Sur le site de la présence de Mehrgarh, on peut documenter la domestication du blé et de l'orge, rapidement suivie par celle des chèvres, des moutons et des bovins. [ 2 ] Par 4 500 av. J.-C., la vie sédentable s'est répandue plus largement, [ 2 ] et a commencé à évoluer progressivement vers la civilisation de la vallée de l'Indus, une civilisation ancienne de l'Ancien Monde, qui était contemporaine de l'Égypte ancienne et de la Mésopotamie. Cette civilisation a prospéré entre 2 500 av. J.-C. et 1900 avant notre ère dans ce qui est aujourd'hui le Pakistan et le nord-ouest de l'Inde, et elle a été notée pour sa planification urbaine, les maisons de briques cuites, le drainage complexe et l'approvisionnement en eau [ 3 ].\""
            ],
            "application/vnd.google.colaboratory.intrinsic+json": {
              "type": "string"
            }
          },
          "metadata": {},
          "execution_count": 15
        }
      ]
    },
    {
      "cell_type": "code",
      "source": [],
      "metadata": {
        "id": "ripdFVcNK5nR"
      },
      "execution_count": null,
      "outputs": []
    }
  ]
}